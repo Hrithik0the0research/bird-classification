{
 "cells": [
  {
   "cell_type": "code",
   "execution_count": 1,
   "metadata": {},
   "outputs": [],
   "source": [
    "import sklearn\n",
    "from efficientnet.keras import preprocess_input\n",
    "import os\n",
    "import librosa\n",
    "import librosa.display\n",
    "import pandas as pd\n",
    "import numpy as np\n",
    "from glob import glob\n",
    "import matplotlib.pyplot as plt\n",
    "from tensorflow.python.keras.utils.np_utils import to_categorical\n",
    "from sklearn.preprocessing import LabelEncoder\n",
    "from sklearn.model_selection import train_test_split\n",
    "from tensorflow.python.keras.callbacks import ModelCheckpoint\n",
    "from datetime import datetime \n",
    "from tensorflow.python.keras.models import Sequential\n",
    "from tensorflow.python.keras.layers import Dense,Dropout,Activation,Flatten\n",
    "from tensorflow.python.keras.optimizers import adam_v2\n",
    "from sklearn import metrics\n",
    "from tensorflow.python.keras.callbacks import ModelCheckpoint\n",
    "from datetime import datetime \n",
    "import streamlit as st\n"
   ]
  },
  {
   "cell_type": "code",
   "execution_count": 2,
   "metadata": {},
   "outputs": [
    {
     "data": {
      "text/plain": [
       "array([-6.26491150e+02,  1.21332493e+01, -1.33197441e+01, -1.62086701e+00,\n",
       "       -5.93476391e+00, -5.03161287e+00, -9.31630230e+00,  1.15646534e+01,\n",
       "       -1.33005123e+01,  1.90682507e+00,  1.93481743e+00, -3.93758106e+00,\n",
       "        2.67170370e-01, -2.03964639e+00,  3.53268290e+00, -4.63234520e+00,\n",
       "        7.46917486e-01, -3.30470167e-02, -3.25698900e+00,  1.45642281e+00,\n",
       "       -1.28613579e+00, -1.13989010e-01,  1.04342796e-01, -9.17609096e-01,\n",
       "        1.14222193e+00, -5.17647326e-01, -1.53393865e-01,  1.14541912e+00,\n",
       "       -1.24071932e+00,  1.50513756e+00, -1.51048851e+00,  2.69394547e-01,\n",
       "        2.46708617e-01, -1.03968036e+00,  1.41617909e-01, -4.29885229e-03,\n",
       "        9.90049422e-01, -8.11226368e-01, -7.33658001e-02,  1.02781737e+00],\n",
       "      dtype=float32)"
      ]
     },
     "execution_count": 2,
     "metadata": {},
     "output_type": "execute_result"
    }
   ],
   "source": [
    "#extract mfcc from the audio\n",
    "path=\"phylloscopus poliogenys1.wav\"\n",
    "audio, sample_rate = librosa.load(path) \n",
    "mfccs_features = librosa.feature.mfcc(y=audio, sr=sample_rate, n_mfcc=40)\n",
    "mfccs_scaled_features = np.mean(mfccs_features.T,axis=0)\n",
    "mfccs_scaled_features=mfccs_scaled_features.reshape(1,-1)"
   ]
  },
  {
   "cell_type": "code",
   "execution_count": 13,
   "metadata": {},
   "outputs": [
    {
     "name": "stdout",
     "output_type": "stream",
     "text": [
      "The grey-cheeked warbler (Phylloscopus poliogenys) is a species of leaf warbler (family Phylloscopidae). It was formerly included in the \"Old World warbler\" assemblage.  It is native to Bangladesh, Bhutan, China, India, Laos, Myanmar, Nepal, Thailand, and Vietnam. Its natural habitats are subtropical or tropical moist lowland forests and subtropical or tropical moist montane forests. Its population size is unknown, but due to its large range the species does not approach the thresholds for Vulnerable under the range size criteria. The population trend appears to be stable, so also under the population size criteria the species does not approach Vulnerable.  The grey-cheeked warbler was previously placed in the genus Seicercus. A molecular phylogenetic study published in 2018 found that neither Phylloscopus nor Seicercus were monophyletic. In the subsequent reorganization the two genera were merged into Phylloscopus which has priority under the rules of the International Commission on Zoological Nomenclature.\n",
      "This species has a very large range, and hence does not approach the thresholds for Vulnerable under the range size criterion (Extent of Occurrence <20,000 km2 combined with a declining or fluctuating range size, habitat extent/quality, or population size and a small number of locations or severe fragmentation). Despite the fact that the population trend appears to be decreasing, the decline is not believed to be sufficiently rapid to approach the thresholds for Vulnerable under the population trend criterion (>30% decline over ten years or three generations). The population size has not been quantified, but it is not believed to approach the thresholds for Vulnerable under the population size criterion (<10,000 mature individuals with a continuing decline estimated to be >10% in ten years or three generations, or with a specified population structure). For these reasons the species is evaluated as Least Concern.\n",
      "A large forest thrush whose name describes its key feature; males are black and females are brown, but both have flashing silvery wings. Bright orange bill and eyering are eye-catching in dark forests. Forages quietly in the understory of montane and submontane broadleaf evergreen forests. Often solitary, occasionally in flocks in the winter. Tends not to visit gardens and parks like Tibetan and Chinese blackbirds, but does occasionally visit feeders at hides. Sweet, “thrushy” song consists of warbled phrases, sometimes with a slightly scratchy quality.\n",
      "Visually indistinguishable from Oriental Cuckoo. Adult male is gray above with a black-and-white-barred belly and a dark gray tail; females usually look similar, but some (known as hepatic morph birds) have cinnamon-brown upperparts with black barring throughout. Intermediate in size between Common and Lesser Cuckoos; distinguished from both species by buffy (not white) under-tail feathers and from Lesser Cuckoos by yellow iris. Song is a series of five notes, with the leading note being sharper and more distinct than the four that follow; compare with Oriental Cuckoo’s series of mellow paired notes. Breeds in a wide range of different lowland and hill forests; also more open habitats outside of breeding season.\n",
      "A large grayish-brown duck with a diagnostic yellow-tipped black bill and a red spot at the base of the bill (missing in certain subspecies). In flight, note the green panel in the wing that is bordered in white. Often seen in small groups dabbling or tipping up in shallow water or walking on marshy land at the edge of freshwater lakes or in cultivated fields. Usually not seen associating with other species. Similar to Eastern Spot-billed Duck, but note green wing panel, lack of a distinct dark \"moustache\", and overall warmer tan coloration.\n",
      "Small brown owl of hilly and montane broadleaf forests, rarely in parks and gardens. Dark brown above, paler on the underparts and face, with bright yellow eyes. Prominent bright white stripe between back and wings is more contrasting than in other owls in its range. Brows are frosty white, as in larger Collared Scops-Owl, but ear tufts much shorter in Mountain. Song is a long series of soft double hoots, with 5-10 second pauses between each pair of notes.\n",
      "Tiny warbler with a long bill and frequently cocked tail. Secretive, tending to stick to the brushy underlayer of hill and submontane forest. Often moves about solitarily, but can sometimes be found with mixed-species flocks, especially with small warblers and fulvettas. Green above and yellow below, with a pale gray throat. Somewhat resembles a Common or Dark-necked tailorbird, but only a fraction of the size, with a proportionally far longer bill, black eye-stripe, and bright orange forehead. Song is an extremely high-pitched tinkling series of whistled notes with an otherworldly quality. Calls include high descending trills and dry chittering.\n",
      "A rather large flycatcher, usually found sitting still on a branch in the middle levels of dense forests. Male is pale blue overall with a pale gray belly. Immature Verditer Flycatcher can be similar, but is a greener shade of blue, has a pale eyering, and shows pale barring on the vent. Female Pale Blue Flycatcher is gray-brown with a white throat and belly and a slight ruddy tint to the tail; her general lack of warm coloration and size help distinguish her from other female flycatchers\n",
      "Dark golden-brown laughingthrush with extensive black-edged scaling all over its body. Wings are paler, brighter yellow, with slight blue-gray highlights toward the tip. Somewhat similar to Blue-winged Laughingthrush, but that species is browner, with a much broader blue wing panel and a narrow black eyebrow. Scaly Laughingthrush forages on the ground and in undergrowth, often in pairs\n"
     ]
    }
   ],
   "source": [
    "import pandas as pd\n",
    "\n",
    "ex=pd.read_excel(\"bird.xlsx\")\n",
    "ex[\"About\"][2]"
   ]
  }
 ],
 "metadata": {
  "kernelspec": {
   "display_name": "Python 3.10.5 64-bit",
   "language": "python",
   "name": "python3"
  },
  "language_info": {
   "codemirror_mode": {
    "name": "ipython",
    "version": 3
   },
   "file_extension": ".py",
   "mimetype": "text/x-python",
   "name": "python",
   "nbconvert_exporter": "python",
   "pygments_lexer": "ipython3",
   "version": "3.10.5"
  },
  "orig_nbformat": 4,
  "vscode": {
   "interpreter": {
    "hash": "e7370f93d1d0cde622a1f8e1c04877d8463912d04d973331ad4851f04de6915a"
   }
  }
 },
 "nbformat": 4,
 "nbformat_minor": 2
}
